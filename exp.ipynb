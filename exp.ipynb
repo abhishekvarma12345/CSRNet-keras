{
 "cells": [
  {
   "cell_type": "code",
   "execution_count": 23,
   "metadata": {},
   "outputs": [],
   "source": [
    "import os\n",
    "from scipy.io import loadmat\n",
    "import matplotlib.pyplot as plt\n",
    "import glob"
   ]
  },
  {
   "cell_type": "code",
   "execution_count": 24,
   "metadata": {},
   "outputs": [],
   "source": [
    "root = 'data'\n",
    "part_A_train = os.path.join(root,'part_A_final','train_data','ground_truth')"
   ]
  },
  {
   "cell_type": "code",
   "execution_count": 26,
   "metadata": {},
   "outputs": [],
   "source": [
    "img_paths = []\n",
    "\n",
    "    \n",
    "for img_path in glob.glob(os.path.join(part_A_train, '*.mat')):\n",
    "    \n",
    "    img_paths.append(str(img_path))"
   ]
  },
  {
   "cell_type": "code",
   "execution_count": 27,
   "metadata": {},
   "outputs": [
    {
     "data": {
      "text/plain": [
       "['data\\\\part_A_final\\\\train_data\\\\ground_truth\\\\GT_IMG_1.mat',\n",
       " 'data\\\\part_A_final\\\\train_data\\\\ground_truth\\\\GT_IMG_10.mat',\n",
       " 'data\\\\part_A_final\\\\train_data\\\\ground_truth\\\\GT_IMG_100.mat']"
      ]
     },
     "execution_count": 27,
     "metadata": {},
     "output_type": "execute_result"
    }
   ],
   "source": [
    "img_paths[:3]"
   ]
  },
  {
   "cell_type": "code",
   "execution_count": 28,
   "metadata": {},
   "outputs": [],
   "source": [
    "ground_truth = loadmat(img_paths[0])"
   ]
  },
  {
   "cell_type": "code",
   "execution_count": 29,
   "metadata": {},
   "outputs": [
    {
     "data": {
      "text/plain": [
       "{'__header__': b'MATLAB 5.0 MAT-file, Platform: GLNXA64, Created on: Fri Oct 23 13:18:27 2015',\n",
       " '__version__': '1.0',\n",
       " '__globals__': [],\n",
       " 'image_info': array([[array([[(array([[ 29.6225116 , 472.92022152],\n",
       "                        [ 54.35533603, 454.96602305],\n",
       "                        [ 51.79045053, 460.46220626],\n",
       "                        ...,\n",
       "                        [597.89732076, 688.27900015],\n",
       "                        [965.77518336, 638.44693908],\n",
       "                        [166.9965574 , 628.1873971 ]]), array([[1546]], dtype=uint16))]],\n",
       "               dtype=[('location', 'O'), ('number', 'O')])                               ]],\n",
       "       dtype=object)}"
      ]
     },
     "execution_count": 29,
     "metadata": {},
     "output_type": "execute_result"
    }
   ],
   "source": [
    "ground_truth"
   ]
  },
  {
   "cell_type": "code",
   "execution_count": null,
   "metadata": {},
   "outputs": [],
   "source": []
  }
 ],
 "metadata": {
  "kernelspec": {
   "display_name": "base",
   "language": "python",
   "name": "python3"
  },
  "language_info": {
   "codemirror_mode": {
    "name": "ipython",
    "version": 3
   },
   "file_extension": ".py",
   "mimetype": "text/x-python",
   "name": "python",
   "nbconvert_exporter": "python",
   "pygments_lexer": "ipython3",
   "version": "3.9.7"
  },
  "orig_nbformat": 4,
  "vscode": {
   "interpreter": {
    "hash": "9c1d5a056f04d97314a9f946bc8c5185004572d3d68312220c0ba298420421f7"
   }
  }
 },
 "nbformat": 4,
 "nbformat_minor": 2
}
