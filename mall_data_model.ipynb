{
 "cells": [
  {
   "cell_type": "code",
   "execution_count": 1,
   "metadata": {},
   "outputs": [
    {
     "name": "stderr",
     "output_type": "stream",
     "text": [
      "Using TensorFlow backend.\n"
     ]
    }
   ],
   "source": [
    "from keras.layers.normalization import BatchNormalization\n",
    "from keras.preprocessing.image import load_img,img_to_array\n",
    "from sklearn.metrics import mean_squared_error\n",
    "from keras.initializers import RandomNormal\n",
    "from keras.applications.vgg16 import VGG16\n",
    "from keras.optimizers import SGD\n",
    "from keras.models import Model,Sequential\n",
    "from keras.layers import *\n",
    "from keras import backend as K\n",
    "from keras.models import model_from_json\n",
    "from matplotlib import cm as CM\n",
    "import matplotlib.pyplot as plt\n",
    "import tensorflow as tf\n",
    "from tqdm import tqdm\n",
    "import scipy.io as io\n",
    "from PIL import Image\n",
    "import PIL\n",
    "import h5py\n",
    "import os\n",
    "import glob\n",
    "import cv2\n",
    "import random\n",
    "import math\n",
    "import sys"
   ]
  },
  {
   "cell_type": "code",
   "execution_count": 2,
   "metadata": {},
   "outputs": [],
   "source": [
    "K.clear_session()\n",
    "root = 'data'"
   ]
  },
  {
   "cell_type": "code",
   "execution_count": 3,
   "metadata": {},
   "outputs": [],
   "source": [
    "train_image_dir = os.path.join(root, 'frames', 'train_data', 'images')\n",
    "test_image_dir = os.path.join(root, 'frames', 'test_data', 'images')\n",
    "temp = 'test_images'\n",
    "path_sets = [train_image_dir]"
   ]
  },
  {
   "cell_type": "code",
   "execution_count": 4,
   "metadata": {},
   "outputs": [
    {
     "name": "stdout",
     "output_type": "stream",
     "text": [
      "Total images :  1600\n"
     ]
    }
   ],
   "source": [
    "img_paths = []\n",
    "\n",
    "for path in path_sets:\n",
    "    \n",
    "    for img_path in glob.glob(os.path.join(path, '*.jpg')):\n",
    "        \n",
    "        img_paths.append(str(img_path))\n",
    "        \n",
    "print(\"Total images : \",len(img_paths))"
   ]
  },
  {
   "cell_type": "code",
   "execution_count": 5,
   "metadata": {},
   "outputs": [],
   "source": [
    "# calculating mean and standard deviation of each channels\n",
    "\n",
    "# Load the images into a 4D NumPy array\n",
    "# images = np.array([cv2.imread(path) for path in img_paths])\n",
    "\n",
    "# # Compute the channel-wise mean and standard deviation\n",
    "# means = np.mean(images, axis=(0, 1, 2)) / 255.0\n",
    "# stddevs = np.std(images, axis=(0, 1, 2)) / 255.0\n",
    "\n",
    "# print(\"Means:\", means)\n",
    "# print(\"Standard deviations:\", stddevs)\n",
    "\n"
   ]
  },
  {
   "cell_type": "code",
   "execution_count": 6,
   "metadata": {},
   "outputs": [],
   "source": [
    "def create_img(path):\n",
    "    #Function to load,normalize and return image \n",
    "    im = Image.open(path).convert('RGB')\n",
    "    \n",
    "    im = np.array(im)\n",
    "    \n",
    "    im = im/255.0\n",
    "    \n",
    "    im[:,:,0]=(im[:,:,0]-0.414)/0.206\n",
    "    im[:,:,1]=(im[:,:,1]-0.462)/0.217\n",
    "    im[:,:,2]=(im[:,:,2]-0.540)/0.221\n",
    "\n",
    "    #print(im.shape)\n",
    "    #im = np.expand_dims(im,axis  = 0)\n",
    "    return im\n",
    "\n",
    "def get_input(path):\n",
    "    path = path[0] \n",
    "    img = create_img(path)\n",
    "    return(img)\n",
    "    \n",
    "    \n",
    "    \n",
    "def get_output(path):\n",
    "    #import target\n",
    "    #resize target\n",
    "    \n",
    "    gt_file = h5py.File(path,'r')\n",
    "    \n",
    "    target = np.asarray(gt_file['density'])\n",
    "    \n",
    "    img = cv2.resize(target,(int(target.shape[1]/8),int(target.shape[0]/8)),interpolation = cv2.INTER_CUBIC)*64\n",
    "    \n",
    "    img = np.expand_dims(img,axis  = 3)\n",
    "    \n",
    "    #print(img.shape)\n",
    "    \n",
    "    return img\n",
    "    \n",
    "    \n",
    "    \n",
    "def preprocess_input(image,target):\n",
    "    #crop image\n",
    "    #crop target\n",
    "    #resize target\n",
    "    crop_size = (int(image.shape[0]/2),int(image.shape[1]/2))\n",
    "    \n",
    "    \n",
    "    if random.randint(0,9)<= -1:            \n",
    "            dx = int(random.randint(0,1)*image.shape[0]*1./2)\n",
    "            dy = int(random.randint(0,1)*image.shape[1]*1./2)\n",
    "    else:\n",
    "            dx = int(random.random()*image.shape[0]*1./2)\n",
    "            dy = int(random.random()*image.shape[1]*1./2)\n",
    "\n",
    "    #print(crop_size , dx , dy)\n",
    "    img = image[dx : crop_size[0]+dx , dy:crop_size[1]+dy]\n",
    "    \n",
    "    target_aug = target[dx:crop_size[0]+dx,dy:crop_size[1]+dy]\n",
    "    #print(img.shape)\n",
    "\n",
    "    return(img,target_aug)\n",
    "    \n",
    "   "
   ]
  },
  {
   "cell_type": "code",
   "execution_count": 7,
   "metadata": {},
   "outputs": [],
   "source": [
    "#Image data generator \n",
    "def image_generator(files, batch_size = 64):\n",
    "    \n",
    "    while True:\n",
    "        \n",
    "        input_path = np.random.choice(a = files, size = batch_size)\n",
    "        \n",
    "        batch_input = []\n",
    "        batch_output = [] \n",
    "          \n",
    "        #for input_path in batch_paths:\n",
    "        \n",
    "        inputt = get_input(input_path )\n",
    "        output = get_output(input_path[0].replace('.jpg','.h5').replace('images','ground') )\n",
    "            \n",
    "       \n",
    "        batch_input += [inputt]\n",
    "        batch_output += [output]\n",
    "    \n",
    "\n",
    "        batch_x = np.array( batch_input )\n",
    "        batch_y = np.array( batch_output )\n",
    "        \n",
    "        yield( batch_x, batch_y )\n"
   ]
  },
  {
   "cell_type": "code",
   "execution_count": 8,
   "metadata": {},
   "outputs": [],
   "source": [
    "def save_mod(model , str1 , str2):\n",
    "    model.save_weights(str1)\n",
    "    \n",
    "    model_json = model.to_json()\n",
    "    \n",
    "    with open(str2, \"w\") as json_file:\n",
    "        json_file.write(model_json)"
   ]
  },
  {
   "cell_type": "code",
   "execution_count": 9,
   "metadata": {},
   "outputs": [],
   "source": [
    "def init_weights_vgg(model):\n",
    "    #vgg =  VGG16(weights='imagenet', include_top=False)\n",
    "    \n",
    "    json_file = open('models/VGG_16.json', 'r')\n",
    "    loaded_model_json = json_file.read()\n",
    "    json_file.close()\n",
    "    loaded_model = model_from_json(loaded_model_json)\n",
    "    loaded_model.load_weights(\"weights/VGG_16.h5\")\n",
    "    \n",
    "    vgg = loaded_model\n",
    "    \n",
    "    vgg_weights=[]                         \n",
    "    for layer in vgg.layers:\n",
    "        if('conv' in layer.name):\n",
    "            vgg_weights.append(layer.get_weights())\n",
    "    \n",
    "    \n",
    "    offset=0\n",
    "    i=0\n",
    "    while(i<10):\n",
    "        if('conv' in model.layers[i+offset].name):\n",
    "            model.layers[i+offset].set_weights(vgg_weights[i])\n",
    "            i=i+1\n",
    "            #print('h')\n",
    "            \n",
    "        else:\n",
    "            offset=offset+1\n",
    "\n",
    "    return (model)\n",
    "    "
   ]
  },
  {
   "cell_type": "code",
   "execution_count": 10,
   "metadata": {},
   "outputs": [],
   "source": [
    "def euclidean_distance_loss(y_true, y_pred):\n",
    "    # Euclidean distance as a measure of loss (Loss function) \n",
    "    return K.sqrt(K.sum(K.square(y_pred - y_true), axis=[1,2,3]))\n"
   ]
  },
  {
   "cell_type": "code",
   "execution_count": 11,
   "metadata": {},
   "outputs": [],
   "source": [
    "# Neural network model : VGG + Conv\n",
    "def CrowdNet():  \n",
    "            #Variable Input Size\n",
    "            rows = None\n",
    "            cols = None\n",
    "            \n",
    "            #Batch Normalisation option\n",
    "            \n",
    "            batch_norm = 0\n",
    "            kernel = (3, 3)\n",
    "            init = RandomNormal(stddev=0.01)\n",
    "            model = Sequential() \n",
    "            \n",
    "            #custom VGG:\n",
    "            \n",
    "            if(batch_norm):\n",
    "                model.add(Conv2D(64, kernel_size = kernel, input_shape = (rows,cols,3),activation = 'relu', padding='same'))\n",
    "                model.add(BatchNormalization())\n",
    "                model.add(Conv2D(64, kernel_size = kernel,activation = 'relu', padding='same'))\n",
    "                model.add(BatchNormalization())\n",
    "                model.add(MaxPooling2D(strides=2))\n",
    "                model.add(Conv2D(128,kernel_size = kernel, activation = 'relu', padding='same'))\n",
    "                model.add(BatchNormalization())\n",
    "                model.add(Conv2D(128,kernel_size = kernel, activation = 'relu', padding='same'))\n",
    "                model.add(BatchNormalization())\n",
    "                model.add(MaxPooling2D(strides=2))\n",
    "                model.add(Conv2D(256,kernel_size = kernel, activation = 'relu', padding='same'))\n",
    "                model.add(BatchNormalization())\n",
    "                model.add(Conv2D(256,kernel_size = kernel, activation = 'relu', padding='same'))\n",
    "                model.add(BatchNormalization())\n",
    "                model.add(Conv2D(256,kernel_size = kernel, activation = 'relu', padding='same'))\n",
    "                model.add(BatchNormalization())\n",
    "                model.add(MaxPooling2D(strides=2))            \n",
    "                model.add(Conv2D(512, kernel_size = kernel,activation = 'relu', padding='same'))\n",
    "                model.add(BatchNormalization())\n",
    "                model.add(Conv2D(512, kernel_size = kernel,activation = 'relu', padding='same'))\n",
    "                model.add(BatchNormalization())\n",
    "                model.add(Conv2D(512, kernel_size = kernel,activation = 'relu', padding='same'))\n",
    "                model.add(BatchNormalization())\n",
    "                \n",
    "            else:\n",
    "                model.add(Conv2D(64, kernel_size = kernel,activation = 'relu', padding='same',input_shape = (rows, cols, 3), kernel_initializer = init))\n",
    "                model.add(Conv2D(64, kernel_size = kernel,activation = 'relu', padding='same', kernel_initializer = init))\n",
    "                model.add(MaxPooling2D(strides=2))\n",
    "                model.add(Conv2D(128,kernel_size = kernel, activation = 'relu', padding='same', kernel_initializer = init))\n",
    "                model.add(Conv2D(128,kernel_size = kernel, activation = 'relu', padding='same', kernel_initializer = init))\n",
    "                model.add(MaxPooling2D(strides=2))\n",
    "                model.add(Conv2D(256,kernel_size = kernel, activation = 'relu', padding='same', kernel_initializer = init))\n",
    "                model.add(Conv2D(256,kernel_size = kernel, activation = 'relu', padding='same', kernel_initializer = init))\n",
    "                model.add(Conv2D(256,kernel_size = kernel, activation = 'relu', padding='same', kernel_initializer = init))\n",
    "                model.add(MaxPooling2D(strides=2))            \n",
    "                model.add(Conv2D(512, kernel_size = kernel,activation = 'relu', padding='same', kernel_initializer = init))\n",
    "                model.add(Conv2D(512, kernel_size = kernel,activation = 'relu', padding='same', kernel_initializer = init))\n",
    "                model.add(Conv2D(512, kernel_size = kernel,activation = 'relu', padding='same', kernel_initializer = init))\n",
    "                \n",
    "                \n",
    "\n",
    "                \n",
    "            #Conv2D\n",
    "            model.add(Conv2D(512, (3, 3), activation='relu', dilation_rate = 2, kernel_initializer = init, padding = 'same'))\n",
    "            model.add(Conv2D(512, (3, 3), activation='relu', dilation_rate = 2, kernel_initializer = init, padding = 'same'))\n",
    "            model.add(Conv2D(512, (3, 3), activation='relu', dilation_rate = 2, kernel_initializer = init, padding = 'same'))\n",
    "            model.add(Conv2D(256, (3, 3), activation='relu', dilation_rate = 2, kernel_initializer = init, padding = 'same'))\n",
    "            model.add(Conv2D(128, (3, 3), activation='relu', dilation_rate = 2, kernel_initializer = init, padding = 'same'))\n",
    "            model.add(Conv2D(64, (3, 3), activation='relu', dilation_rate = 2, kernel_initializer = init, padding = 'same'))\n",
    "            model.add(Conv2D(1, (1, 1), activation='relu', dilation_rate = 1, kernel_initializer = init, padding = 'same'))\n",
    "        \n",
    "            sgd = SGD(lr = 1e-7, decay = (5*1e-4), momentum = 0.95)\n",
    "            model.compile(optimizer=sgd, loss=euclidean_distance_loss, metrics=['mse'])\n",
    "            \n",
    "            model = init_weights_vgg(model)\n",
    "            \n",
    "            return model"
   ]
  },
  {
   "cell_type": "code",
   "execution_count": 12,
   "metadata": {},
   "outputs": [],
   "source": [
    "model = CrowdNet()"
   ]
  },
  {
   "cell_type": "code",
   "execution_count": 13,
   "metadata": {},
   "outputs": [
    {
     "name": "stdout",
     "output_type": "stream",
     "text": [
      "_________________________________________________________________\n",
      "Layer (type)                 Output Shape              Param #   \n",
      "=================================================================\n",
      "conv2d_1 (Conv2D)            (None, None, None, 64)    1792      \n",
      "_________________________________________________________________\n",
      "conv2d_2 (Conv2D)            (None, None, None, 64)    36928     \n",
      "_________________________________________________________________\n",
      "max_pooling2d_1 (MaxPooling2 (None, None, None, 64)    0         \n",
      "_________________________________________________________________\n",
      "conv2d_3 (Conv2D)            (None, None, None, 128)   73856     \n",
      "_________________________________________________________________\n",
      "conv2d_4 (Conv2D)            (None, None, None, 128)   147584    \n",
      "_________________________________________________________________\n",
      "max_pooling2d_2 (MaxPooling2 (None, None, None, 128)   0         \n",
      "_________________________________________________________________\n",
      "conv2d_5 (Conv2D)            (None, None, None, 256)   295168    \n",
      "_________________________________________________________________\n",
      "conv2d_6 (Conv2D)            (None, None, None, 256)   590080    \n",
      "_________________________________________________________________\n",
      "conv2d_7 (Conv2D)            (None, None, None, 256)   590080    \n",
      "_________________________________________________________________\n",
      "max_pooling2d_3 (MaxPooling2 (None, None, None, 256)   0         \n",
      "_________________________________________________________________\n",
      "conv2d_8 (Conv2D)            (None, None, None, 512)   1180160   \n",
      "_________________________________________________________________\n",
      "conv2d_9 (Conv2D)            (None, None, None, 512)   2359808   \n",
      "_________________________________________________________________\n",
      "conv2d_10 (Conv2D)           (None, None, None, 512)   2359808   \n",
      "_________________________________________________________________\n",
      "conv2d_11 (Conv2D)           (None, None, None, 512)   2359808   \n",
      "_________________________________________________________________\n",
      "conv2d_12 (Conv2D)           (None, None, None, 512)   2359808   \n",
      "_________________________________________________________________\n",
      "conv2d_13 (Conv2D)           (None, None, None, 512)   2359808   \n",
      "_________________________________________________________________\n",
      "conv2d_14 (Conv2D)           (None, None, None, 256)   1179904   \n",
      "_________________________________________________________________\n",
      "conv2d_15 (Conv2D)           (None, None, None, 128)   295040    \n",
      "_________________________________________________________________\n",
      "conv2d_16 (Conv2D)           (None, None, None, 64)    73792     \n",
      "_________________________________________________________________\n",
      "conv2d_17 (Conv2D)           (None, None, None, 1)     65        \n",
      "=================================================================\n",
      "Total params: 16,263,489\n",
      "Trainable params: 16,263,489\n",
      "Non-trainable params: 0\n",
      "_________________________________________________________________\n"
     ]
    }
   ],
   "source": [
    "model.summary()"
   ]
  },
  {
   "cell_type": "code",
   "execution_count": 14,
   "metadata": {},
   "outputs": [],
   "source": [
    "train_gen = image_generator(img_paths, 32)"
   ]
  },
  {
   "cell_type": "code",
   "execution_count": 17,
   "metadata": {},
   "outputs": [
    {
     "name": "stderr",
     "output_type": "stream",
     "text": [
      "c:\\Users\\asus\\anaconda3\\envs\\myenv\\lib\\site-packages\\ipykernel_launcher.py:34: DeprecationWarning: Both axis > a.ndim and axis < -a.ndim - 1 are deprecated and will raise an AxisError in the future.\n"
     ]
    }
   ],
   "source": [
    "x_img, y_img = next(train_gen)"
   ]
  },
  {
   "cell_type": "code",
   "execution_count": null,
   "metadata": {},
   "outputs": [],
   "source": [
    "# sgd = SGD(lr = 1e-7, decay = (5*1e-4), momentum = 0.95)\n",
    "# model.compile(optimizer=sgd, loss=euclidean_distance_loss, metrics=['mse'])"
   ]
  },
  {
   "cell_type": "code",
   "execution_count": 15,
   "metadata": {},
   "outputs": [
    {
     "name": "stdout",
     "output_type": "stream",
     "text": [
      "Epoch 1/50\n"
     ]
    },
    {
     "name": "stderr",
     "output_type": "stream",
     "text": [
      "c:\\Users\\asus\\anaconda3\\envs\\myenv\\lib\\site-packages\\ipykernel_launcher.py:34: DeprecationWarning: Both axis > a.ndim and axis < -a.ndim - 1 are deprecated and will raise an AxisError in the future.\n"
     ]
    },
    {
     "name": "stdout",
     "output_type": "stream",
     "text": [
      "50/50 [==============================] - 223s 4s/step - loss: 1.5385 - mean_squared_error: 5.2559e-04\n",
      "Epoch 2/50\n",
      "50/50 [==============================] - 232s 5s/step - loss: 1.4337 - mean_squared_error: 4.6345e-04\n",
      "Epoch 3/50\n",
      "50/50 [==============================] - 252s 5s/step - loss: 1.4751 - mean_squared_error: 4.9597e-04\n",
      "Epoch 4/50\n",
      "50/50 [==============================] - 239s 5s/step - loss: 1.4945 - mean_squared_error: 5.1495e-04\n",
      "Epoch 5/50\n",
      "50/50 [==============================] - 234s 5s/step - loss: 1.5542 - mean_squared_error: 5.5850e-04\n",
      "Epoch 6/50\n",
      "50/50 [==============================] - 231s 5s/step - loss: 1.5212 - mean_squared_error: 5.1394e-04\n",
      "Epoch 7/50\n",
      "50/50 [==============================] - 232s 5s/step - loss: 1.4706 - mean_squared_error: 4.9503e-04\n",
      "Epoch 8/50\n",
      "50/50 [==============================] - 235s 5s/step - loss: 1.4223 - mean_squared_error: 4.4048e-04\n",
      "Epoch 9/50\n",
      "50/50 [==============================] - 238s 5s/step - loss: 1.4626 - mean_squared_error: 4.7980e-04\n",
      "Epoch 10/50\n",
      "50/50 [==============================] - 220s 4s/step - loss: 1.3886 - mean_squared_error: 4.3303e-04\n",
      "Epoch 11/50\n",
      "50/50 [==============================] - 222s 4s/step - loss: 1.3463 - mean_squared_error: 4.0659e-04\n",
      "Epoch 12/50\n",
      "50/50 [==============================] - 225s 4s/step - loss: 1.5531 - mean_squared_error: 5.6857e-04\n",
      "Epoch 13/50\n",
      "50/50 [==============================] - 225s 5s/step - loss: 1.4417 - mean_squared_error: 4.7525e-04\n",
      "Epoch 14/50\n",
      "50/50 [==============================] - 226s 5s/step - loss: 1.4755 - mean_squared_error: 4.9495e-04\n",
      "Epoch 15/50\n",
      "50/50 [==============================] - 230s 5s/step - loss: 1.5147 - mean_squared_error: 5.0722e-04\n",
      "Epoch 16/50\n",
      "50/50 [==============================] - 241s 5s/step - loss: 1.4948 - mean_squared_error: 4.9954e-04\n",
      "Epoch 17/50\n",
      "50/50 [==============================] - 224s 4s/step - loss: 1.4719 - mean_squared_error: 4.8130e-04\n",
      "Epoch 18/50\n",
      "50/50 [==============================] - 224s 4s/step - loss: 1.4250 - mean_squared_error: 4.5801e-04\n",
      "Epoch 19/50\n",
      "50/50 [==============================] - 227s 5s/step - loss: 1.4416 - mean_squared_error: 4.7446e-04\n",
      "Epoch 20/50\n",
      "50/50 [==============================] - 220s 4s/step - loss: 1.4141 - mean_squared_error: 4.4727e-04\n",
      "Epoch 21/50\n",
      "50/50 [==============================] - 221s 4s/step - loss: 1.4743 - mean_squared_error: 5.0517e-04\n",
      "Epoch 22/50\n",
      "50/50 [==============================] - 229s 5s/step - loss: 1.3966 - mean_squared_error: 4.3780e-04\n",
      "Epoch 23/50\n",
      "50/50 [==============================] - 226s 5s/step - loss: 1.4355 - mean_squared_error: 4.6537e-04\n",
      "Epoch 24/50\n",
      "50/50 [==============================] - 233s 5s/step - loss: 1.5052 - mean_squared_error: 5.0803e-04\n",
      "Epoch 25/50\n",
      "50/50 [==============================] - 221s 4s/step - loss: 1.4604 - mean_squared_error: 4.9899e-04\n",
      "Epoch 26/50\n",
      "50/50 [==============================] - 226s 5s/step - loss: 1.4273 - mean_squared_error: 4.5843e-04\n",
      "Epoch 27/50\n",
      "50/50 [==============================] - 221s 4s/step - loss: 1.5308 - mean_squared_error: 5.3316e-04\n",
      "Epoch 28/50\n",
      "50/50 [==============================] - 220s 4s/step - loss: 1.4189 - mean_squared_error: 4.4944e-04\n",
      "Epoch 29/50\n",
      "50/50 [==============================] - 222s 4s/step - loss: 1.4451 - mean_squared_error: 4.8024e-04\n",
      "Epoch 30/50\n",
      "50/50 [==============================] - 226s 5s/step - loss: 1.5330 - mean_squared_error: 5.3450e-04\n",
      "Epoch 31/50\n",
      "50/50 [==============================] - 225s 5s/step - loss: 1.4967 - mean_squared_error: 5.1815e-04\n",
      "Epoch 32/50\n",
      "50/50 [==============================] - 218s 4s/step - loss: 1.4437 - mean_squared_error: 4.8398e-04\n",
      "Epoch 33/50\n",
      "50/50 [==============================] - 230s 5s/step - loss: 1.4823 - mean_squared_error: 5.0295e-04\n",
      "Epoch 34/50\n",
      "50/50 [==============================] - 250s 5s/step - loss: 1.4887 - mean_squared_error: 5.0216e-04\n",
      "Epoch 35/50\n",
      "50/50 [==============================] - 241s 5s/step - loss: 1.5201 - mean_squared_error: 5.1987e-04\n",
      "Epoch 36/50\n",
      "50/50 [==============================] - 236s 5s/step - loss: 1.4613 - mean_squared_error: 4.8953e-04\n",
      "Epoch 37/50\n",
      "50/50 [==============================] - 239s 5s/step - loss: 1.4731 - mean_squared_error: 4.8039e-04\n",
      "Epoch 38/50\n",
      "50/50 [==============================] - 241s 5s/step - loss: 1.4346 - mean_squared_error: 4.7033e-04\n",
      "Epoch 39/50\n",
      "50/50 [==============================] - 236s 5s/step - loss: 1.3787 - mean_squared_error: 4.3646e-04\n",
      "Epoch 40/50\n",
      "50/50 [==============================] - 235s 5s/step - loss: 1.5152 - mean_squared_error: 5.2844e-04\n",
      "Epoch 41/50\n",
      "50/50 [==============================] - 222s 4s/step - loss: 1.4851 - mean_squared_error: 4.9499e-04\n",
      "Epoch 42/50\n",
      "50/50 [==============================] - 217s 4s/step - loss: 1.5829 - mean_squared_error: 5.6305e-04\n",
      "Epoch 43/50\n",
      "50/50 [==============================] - 217s 4s/step - loss: 1.4118 - mean_squared_error: 4.5087e-04\n",
      "Epoch 44/50\n",
      "50/50 [==============================] - 218s 4s/step - loss: 1.5036 - mean_squared_error: 5.1176e-04\n",
      "Epoch 45/50\n",
      "50/50 [==============================] - 221s 4s/step - loss: 1.4546 - mean_squared_error: 4.8243e-04\n",
      "Epoch 46/50\n",
      "50/50 [==============================] - 214s 4s/step - loss: 1.3781 - mean_squared_error: 4.2590e-04\n",
      "Epoch 47/50\n",
      "50/50 [==============================] - 210s 4s/step - loss: 1.4876 - mean_squared_error: 5.0931e-04\n",
      "Epoch 48/50\n",
      "50/50 [==============================] - 211s 4s/step - loss: 1.3809 - mean_squared_error: 4.3638e-04\n",
      "Epoch 49/50\n",
      "50/50 [==============================] - 225s 4s/step - loss: 1.4492 - mean_squared_error: 4.8326e-04\n",
      "Epoch 50/50\n",
      "50/50 [==============================] - 225s 4s/step - loss: 1.4814 - mean_squared_error: 4.9069e-04\n"
     ]
    }
   ],
   "source": [
    "history = model.fit_generator(train_gen,epochs=50,steps_per_epoch=1600//32 , verbose=1)"
   ]
  },
  {
   "cell_type": "code",
   "execution_count": 18,
   "metadata": {},
   "outputs": [
    {
     "data": {
      "text/plain": [
       "[<matplotlib.lines.Line2D at 0x16d5751be80>]"
      ]
     },
     "execution_count": 18,
     "metadata": {},
     "output_type": "execute_result"
    },
    {
     "data": {
      "image/png": "[encoded data removed]",
      "text/plain": [
       "<Figure size 432x288 with 1 Axes>"
      ]
     },
     "metadata": {
      "needs_background": "light"
     },
     "output_type": "display_data"
    }
   ],
   "source": [
    "plt.plot(history.history[\"loss\"])"
   ]
  },
  {
   "cell_type": "code",
   "execution_count": 20,
   "metadata": {},
   "outputs": [],
   "source": [
    "save_mod(model,\"weights/model_mall_weights_50_epoch.h5\",\"models/Model_mall_50_epoch.json\")"
   ]
  },
  {
   "cell_type": "code",
   "execution_count": 21,
   "metadata": {},
   "outputs": [
    {
     "ename": "TypeError",
     "evalue": "'History' object is not subscriptable",
     "output_type": "error",
     "traceback": [
      "\u001b[1;31m---------------------------------------------------------------------------\u001b[0m",
      "\u001b[1;31mTypeError\u001b[0m                                 Traceback (most recent call last)",
      "\u001b[1;32m<ipython-input-21-fc2971983468>\u001b[0m in \u001b[0;36m<module>\u001b[1;34m\u001b[0m\n\u001b[1;32m----> 1\u001b[1;33m \u001b[0mmodel\u001b[0m\u001b[1;33m.\u001b[0m\u001b[0mhistory\u001b[0m\u001b[1;33m[\u001b[0m\u001b[1;34m'history'\u001b[0m\u001b[1;33m]\u001b[0m\u001b[1;33m\u001b[0m\u001b[1;33m\u001b[0m\u001b[0m\n\u001b[0m",
      "\u001b[1;31mTypeError\u001b[0m: 'History' object is not subscriptable"
     ]
    }
   ],
   "source": []
  },
  {
   "cell_type": "code",
   "execution_count": null,
   "metadata": {},
   "outputs": [],
   "source": []
  }
 ],
 "metadata": {
  "kernelspec": {
   "display_name": "myenv",
   "language": "python",
   "name": "python3"
  },
  "language_info": {
   "codemirror_mode": {
    "name": "ipython",
    "version": 3
   },
   "file_extension": ".py",
   "mimetype": "text/x-python",
   "name": "python",
   "nbconvert_exporter": "python",
   "pygments_lexer": "ipython3",
   "version": "3.6.13"
  },
  "orig_nbformat": 4,
  "vscode": {
   "interpreter": {
    "hash": "8129fbbab93e3af375678fe5c305b8a3b84bda369d73af0ac9e1c91a656b6aad"
   }
  }
 },
 "nbformat": 4,
 "nbformat_minor": 2
}
