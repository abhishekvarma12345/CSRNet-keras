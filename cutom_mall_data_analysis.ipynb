{
 "cells": [
  {
   "cell_type": "code",
   "execution_count": 2,
   "metadata": {},
   "outputs": [
    {
     "name": "stderr",
     "output_type": "stream",
     "text": [
      "Using TensorFlow backend.\n"
     ]
    }
   ],
   "source": [
    "from keras.models import model_from_json\n",
    "import os\n",
    "import cv2\n",
    "import glob\n",
    "import h5py\n",
    "import pandas as pd\n",
    "from sklearn.metrics import mean_absolute_error\n",
    "import scipy.io as io\n",
    "from PIL import Image\n",
    "import numpy as np"
   ]
  },
  {
   "cell_type": "code",
   "execution_count": 2,
   "metadata": {},
   "outputs": [],
   "source": [
    "def load_model():\n",
    "    \n",
    "    json_file = open('models/Model_mall_50_epoch.json', 'r')\n",
    "    loaded_model_json = json_file.read()\n",
    "    json_file.close()\n",
    "    loaded_model = model_from_json(loaded_model_json)\n",
    "    loaded_model.load_weights(\"weights/model_mall_weights_50_epoch.h5\")\n",
    "    return loaded_model\n",
    "\n",
    "\n",
    "def create_img(path):\n",
    "    im = Image.open(path).convert('RGB')\n",
    "    \n",
    "    im = np.array(im)\n",
    "    \n",
    "    im = im/255.0\n",
    "    \n",
    "    im[:,:,0]=(im[:,:,0]-0.414)/0.206\n",
    "    im[:,:,1]=(im[:,:,1]-0.462)/0.217\n",
    "    im[:,:,2]=(im[:,:,2]-0.540)/0.221\n",
    "\n",
    "\n",
    "    im = np.expand_dims(im,axis  = 0)\n",
    "    return im"
   ]
  },
  {
   "cell_type": "code",
   "execution_count": 4,
   "metadata": {},
   "outputs": [],
   "source": [
    "root = 'data'"
   ]
  },
  {
   "cell_type": "code",
   "execution_count": 5,
   "metadata": {},
   "outputs": [],
   "source": [
    "# part_A_train = os.path.join(root,'part_A_final/train_data','images')\n",
    "# part_A_test = os.path.join(root,'part_A_final/test_data','images')\n",
    "# part_B_train = os.path.join(root,'part_B_final/train_data','images')\n",
    "# part_B_test = os.path.join(root,'part_B_final/test_data','images')\n",
    "\n",
    "all_frames = os.path.join(root,'frames','test_data', 'images')\n",
    "path_sets = [all_frames]"
   ]
  },
  {
   "cell_type": "code",
   "execution_count": 6,
   "metadata": {},
   "outputs": [
    {
     "name": "stdout",
     "output_type": "stream",
     "text": [
      "400\n"
     ]
    }
   ],
   "source": [
    "img_paths = []\n",
    "for path in path_sets:\n",
    "    for img_path in glob.glob(os.path.join(path, '*.jpg')):\n",
    "        img_paths.append(img_path)\n",
    "print(len(img_paths))"
   ]
  },
  {
   "cell_type": "code",
   "execution_count": 7,
   "metadata": {},
   "outputs": [],
   "source": [
    "\n",
    "\n",
    "model = load_model()\n",
    "name = []\n",
    "y_true = []\n",
    "y_pred = []\n",
    "\n",
    "\n",
    "for image in img_paths:\n",
    "    name.append(image)\n",
    "    gt = h5py.File(image.replace('.jpg','.h5').replace('images','ground') )\n",
    "    groundtruth = np.asarray(gt['density'])\n",
    "    num1 = np.sum(groundtruth)\n",
    "    y_true.append(np.sum(num1))\n",
    "    img = create_img(image)\n",
    "    num = np.sum(model.predict(img))\n",
    "    y_pred.append(np.sum(num))\n",
    "\n",
    "    \n",
    "data = pd.DataFrame({'name': name,'y_pred': y_pred,'y_true': y_true})\n",
    "data.to_csv('CSV/custom_on_mall_50_epochs.csv', sep=',')"
   ]
  },
  {
   "cell_type": "code",
   "execution_count": 9,
   "metadata": {},
   "outputs": [],
   "source": [
    "data = pd.read_csv('CSV/custom_on_mall_50_epochs.csv')\n",
    "y_true = data['y_true']\n",
    "y_pred = data['y_pred']"
   ]
  },
  {
   "cell_type": "code",
   "execution_count": 10,
   "metadata": {},
   "outputs": [],
   "source": [
    "ans = mean_absolute_error(np.array(y_true),np.array(y_pred))"
   ]
  },
  {
   "cell_type": "code",
   "execution_count": 11,
   "metadata": {},
   "outputs": [
    {
     "name": "stdout",
     "output_type": "stream",
     "text": [
      "MAE :  4.57658326625824\n"
     ]
    }
   ],
   "source": [
    "print(\"MAE : \" , ans )"
   ]
  },
  {
   "cell_type": "code",
   "execution_count": 6,
   "metadata": {},
   "outputs": [],
   "source": [
    "data = pd.read_csv('CSV/B_on_frames_test.csv')\n",
    "y_true = data['y_true']\n",
    "y_pred = data['y_pred']"
   ]
  },
  {
   "cell_type": "code",
   "execution_count": 7,
   "metadata": {},
   "outputs": [],
   "source": [
    "ans = mean_absolute_error(np.array(y_true),np.array(y_pred))"
   ]
  },
  {
   "cell_type": "code",
   "execution_count": 8,
   "metadata": {},
   "outputs": [
    {
     "name": "stdout",
     "output_type": "stream",
     "text": [
      "MAE :  9.286396814823151\n"
     ]
    }
   ],
   "source": [
    "print(\"MAE : \" , ans )"
   ]
  },
  {
   "cell_type": "code",
   "execution_count": 2,
   "metadata": {},
   "outputs": [],
   "source": [
    "root = 'data'"
   ]
  },
  {
   "cell_type": "code",
   "execution_count": 3,
   "metadata": {},
   "outputs": [],
   "source": [
    "path1 = os.path.join(root,'part_A_final','train_data', 'ground')\n",
    "path2 = os.path.join(root,'part_A_final','test_data', 'ground')\n",
    "path_sets = [path1, path2]\n",
    "img_paths = []\n",
    "for path in path_sets:\n",
    "    for img_path in glob.glob(os.path.join(path, '*.h5')):\n",
    "        img_paths.append(img_path)"
   ]
  },
  {
   "cell_type": "code",
   "execution_count": 4,
   "metadata": {},
   "outputs": [],
   "source": [
    "crowd_counts_partA = []\n",
    "for image in img_paths:\n",
    "    gt = h5py.File(image)\n",
    "    groundtruth = np.asarray(gt['density'])\n",
    "    num = np.sum(groundtruth)\n",
    "    crowd_counts_partA.append(num)"
   ]
  },
  {
   "cell_type": "code",
   "execution_count": 5,
   "metadata": {},
   "outputs": [
    {
     "data": {
      "text/plain": [
       "482"
      ]
     },
     "execution_count": 5,
     "metadata": {},
     "output_type": "execute_result"
    }
   ],
   "source": [
    "len(crowd_counts_partA)"
   ]
  },
  {
   "cell_type": "code",
   "execution_count": 6,
   "metadata": {},
   "outputs": [],
   "source": [
    "import matplotlib.pyplot as plt"
   ]
  },
  {
   "cell_type": "code",
   "execution_count": 9,
   "metadata": {},
   "outputs": [
    {
     "name": "stdout",
     "output_type": "stream",
     "text": [
      "496.52 354.96\n"
     ]
    },
    {
     "data": {
      "image/png": "[encoded data removed]",
      "text/plain": [
       "<Figure size 432x288 with 1 Axes>"
      ]
     },
     "metadata": {
      "needs_background": "light"
     },
     "output_type": "display_data"
    }
   ],
   "source": [
    "\n",
    "# Calculate mean and median\n",
    "mean = np.round(np.mean(crowd_counts_partA),2)\n",
    "median = np.round(np.median(crowd_counts_partA),2)\n",
    "\n",
    "\n",
    "# Create histogram\n",
    "n, bins, patches = plt.hist(crowd_counts_partA, bins=30, color='purple', alpha=0.7, rwidth=0.85)\n",
    "\n",
    "# Add labels and title\n",
    "plt.xlabel('Human Count')\n",
    "plt.ylabel('Frequency')\n",
    "plt.title('Histogram of Human Count for ShanghaiTech Part_A')\n",
    "\n",
    "# Add mean and median lines\n",
    "print(mean,median)\n",
    "plt.axvline(mean, color='red', linestyle='dashed', linewidth=1, label='Mean=496.52')\n",
    "plt.axvline(median, color='green', linestyle='dotted', linewidth=1, label=f'Median=354.96')\n",
    "\n",
    "# Add legend\n",
    "plt.legend()\n",
    "\n",
    "# Show plot\n",
    "plt.show()"
   ]
  },
  {
   "cell_type": "code",
   "execution_count": 2,
   "metadata": {},
   "outputs": [
    {
     "ename": "NameError",
     "evalue": "name 'plt' is not defined",
     "output_type": "error",
     "traceback": [
      "\u001b[1;31m---------------------------------------------------------------------------\u001b[0m",
      "\u001b[1;31mNameError\u001b[0m                                 Traceback (most recent call last)",
      "\u001b[1;32m<ipython-input-2-df921fee5671>\u001b[0m in \u001b[0;36m<module>\u001b[1;34m\u001b[0m\n\u001b[0;32m      6\u001b[0m \u001b[1;33m\u001b[0m\u001b[0m\n\u001b[0;32m      7\u001b[0m \u001b[1;31m# Create histogram\u001b[0m\u001b[1;33m\u001b[0m\u001b[1;33m\u001b[0m\u001b[1;33m\u001b[0m\u001b[0m\n\u001b[1;32m----> 8\u001b[1;33m \u001b[0mn\u001b[0m\u001b[1;33m,\u001b[0m \u001b[0mbins\u001b[0m\u001b[1;33m,\u001b[0m \u001b[0mpatches\u001b[0m \u001b[1;33m=\u001b[0m \u001b[0mplt\u001b[0m\u001b[1;33m.\u001b[0m\u001b[0mhist\u001b[0m\u001b[1;33m(\u001b[0m\u001b[0mcrowd_counts2\u001b[0m\u001b[1;33m[\u001b[0m\u001b[1;34m\"y_true\"\u001b[0m\u001b[1;33m]\u001b[0m\u001b[1;33m,\u001b[0m \u001b[0mbins\u001b[0m\u001b[1;33m=\u001b[0m\u001b[1;36m30\u001b[0m\u001b[1;33m,\u001b[0m \u001b[0mcolor\u001b[0m\u001b[1;33m=\u001b[0m\u001b[1;34m'purple'\u001b[0m\u001b[1;33m,\u001b[0m \u001b[0malpha\u001b[0m\u001b[1;33m=\u001b[0m\u001b[1;36m0.7\u001b[0m\u001b[1;33m,\u001b[0m \u001b[0mrwidth\u001b[0m\u001b[1;33m=\u001b[0m\u001b[1;36m0.85\u001b[0m\u001b[1;33m)\u001b[0m\u001b[1;33m\u001b[0m\u001b[1;33m\u001b[0m\u001b[0m\n\u001b[0m\u001b[0;32m      9\u001b[0m \u001b[1;33m\u001b[0m\u001b[0m\n\u001b[0;32m     10\u001b[0m \u001b[1;31m# Add labels and title\u001b[0m\u001b[1;33m\u001b[0m\u001b[1;33m\u001b[0m\u001b[1;33m\u001b[0m\u001b[0m\n",
      "\u001b[1;31mNameError\u001b[0m: name 'plt' is not defined"
     ]
    }
   ],
   "source": [
    "crowd_counts2 = pd.read_csv('CSV/B_on_B_test.csv', sep=\"\\t\")\n",
    "\n",
    "# Calculate mean and median\n",
    "mean = np.mean(crowd_counts2[\"y_true\"])\n",
    "median = np.median(crowd_counts2[\"y_true\"])\n",
    "\n",
    "# Create histogram\n",
    "n, bins, patches = plt.hist(crowd_counts2[\"y_true\"], bins=30, color='purple', alpha=0.7, rwidth=0.85)\n",
    "\n",
    "# Add labels and title\n",
    "plt.xlabel('Human Count')\n",
    "plt.ylabel('Frequency')\n",
    "plt.title('Histogram of Human Count for ShanghaiTech Part_A')\n",
    "\n",
    "# Add mean and median lines\n",
    "plt.axvline(mean, color='red', linestyle='dashed', linewidth=1, label=f'Mean={np.round(mean,2)}')\n",
    "plt.axvline(median, color='green', linestyle='dotted', linewidth=1, label=f'Median={np.round(median,2)}')\n",
    "\n",
    "# Add legend\n",
    "plt.legend()\n",
    "\n",
    "# Show plot\n",
    "plt.show()"
   ]
  },
  {
   "cell_type": "code",
   "execution_count": 7,
   "metadata": {},
   "outputs": [
    {
     "data": {
      "image/png": "[encoded data removed]",
      "text/plain": [
       "<Figure size 432x288 with 1 Axes>"
      ]
     },
     "metadata": {
      "needs_background": "light"
     },
     "output_type": "display_data"
    }
   ],
   "source": [
    "crowd_counts1 = pd.read_csv('CSV/B_on_frames_test.csv')\n",
    "# Calculate mean and median\n",
    "mean = np.mean(crowd_counts1[\"y_true\"])\n",
    "median = np.median(crowd_counts1[\"y_true\"])\n",
    "\n",
    "# Create histogram\n",
    "n, bins, patches = plt.hist(crowd_counts1[\"y_true\"], bins=30, color='purple', alpha=0.7, rwidth=0.85)\n",
    "\n",
    "# Add labels and title\n",
    "plt.xlabel('Human Count')\n",
    "plt.ylabel('Frequency')\n",
    "plt.title('Histogram of Human Count for Mall dataset')\n",
    "\n",
    "# Add mean and median lines\n",
    "plt.axvline(mean, color='red', linestyle='dashed', linewidth=1, label=f'Mean={np.round(mean,2)}')\n",
    "plt.axvline(median, color='green', linestyle='dotted', linewidth=1, label=f'Median={np.round(median,2)}')\n",
    "\n",
    "# Add legend\n",
    "plt.legend()\n",
    "\n",
    "# Show plot\n",
    "plt.show()"
   ]
  },
  {
   "cell_type": "code",
   "execution_count": 13,
   "metadata": {},
   "outputs": [],
   "source": [
    "crowd_counts1[\"y_true\"].astype(\"int\").to_csv(\"CSV\\labels.csv\", index=False)"
   ]
  },
  {
   "cell_type": "code",
   "execution_count": null,
   "metadata": {},
   "outputs": [],
   "source": []
  }
 ],
 "metadata": {
  "kernelspec": {
   "display_name": "myenv",
   "language": "python",
   "name": "python3"
  },
  "language_info": {
   "codemirror_mode": {
    "name": "ipython",
    "version": 3
   },
   "file_extension": ".py",
   "mimetype": "text/x-python",
   "name": "python",
   "nbconvert_exporter": "python",
   "pygments_lexer": "ipython3",
   "version": "3.6.13"
  },
  "orig_nbformat": 4,
  "vscode": {
   "interpreter": {
    "hash": "8129fbbab93e3af375678fe5c305b8a3b84bda369d73af0ac9e1c91a656b6aad"
   }
  }
 },
 "nbformat": 4,
 "nbformat_minor": 2
}
